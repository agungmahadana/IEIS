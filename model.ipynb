{
 "cells": [
  {
   "cell_type": "code",
   "execution_count": 1,
   "metadata": {},
   "outputs": [],
   "source": [
    "from skimage.feature import graycomatrix, graycoprops\n",
    "\n",
    "# Hitung fitur GLCM\n",
    "def compute_glcm(image, angles):\n",
    "    glcm = graycomatrix(image, distances=[1], angles=angles, levels=256, symmetric=True, normed=True)\n",
    "    return glcm"
   ]
  },
  {
   "cell_type": "code",
   "execution_count": 2,
   "metadata": {},
   "outputs": [],
   "source": [
    "import numpy as np\n",
    "\n",
    "# Hitung matriks GLCM\n",
    "def glcm_matrix(image):\n",
    "    matrix = []\n",
    "    angles = [0, np.pi/4, np.pi/2, 3*np.pi/4, np.pi]\n",
    "    metric_texture = ['dissimilarity', 'correlation', 'homogeneity', 'contrast', 'ASM', 'energy']\n",
    "    for i in metric_texture:\n",
    "        row = []\n",
    "        for j in angles:\n",
    "            row.append(graycoprops(compute_glcm(image, [j]), prop=i)[0][0])\n",
    "        matrix.append(row)\n",
    "    return np.array(matrix).flatten()"
   ]
  },
  {
   "cell_type": "code",
   "execution_count": 3,
   "metadata": {},
   "outputs": [],
   "source": [
    "X = []  # Features\n",
    "y = []  # Labels"
   ]
  },
  {
   "cell_type": "code",
   "execution_count": 4,
   "metadata": {},
   "outputs": [],
   "source": [
    "import os\n",
    "from skimage import io, color, util\n",
    "\n",
    "# Load citra dengan ekspresi happy\n",
    "positive_images = os.listdir(\"dataset/happy/\")\n",
    "for img_path in positive_images:\n",
    "    image = io.imread(\"dataset/happy/\" + img_path)\n",
    "    features = glcm_matrix(image)\n",
    "    X.append(features)\n",
    "    y.append(1)  # Sentimen positif"
   ]
  },
  {
   "cell_type": "code",
   "execution_count": 5,
   "metadata": {},
   "outputs": [],
   "source": [
    "# Load citra dengan ekspresi sad\n",
    "negative_images = os.listdir(\"dataset/sad/\")\n",
    "for img_path in negative_images:\n",
    "    image = io.imread(\"dataset/sad/\" + img_path)\n",
    "    features = glcm_matrix(image)\n",
    "    X.append(features)\n",
    "    y.append(0)  # Sentimen negatif"
   ]
  },
  {
   "cell_type": "code",
   "execution_count": 6,
   "metadata": {},
   "outputs": [],
   "source": [
    "from sklearn.model_selection import train_test_split\n",
    "\n",
    "# Pisahkan data menjadi data latih dan data uji\n",
    "X_train, X_test, y_train, y_test = train_test_split(X, y, test_size=0.2, random_state=42)"
   ]
  },
  {
   "cell_type": "code",
   "execution_count": 7,
   "metadata": {},
   "outputs": [],
   "source": [
    "import joblib\n",
    "from sklearn.neighbors import KNeighborsClassifier\n",
    "\n",
    "k = [3, 5, 7, 9]\n",
    "accuracy = []\n",
    "\n",
    "for i in k:\n",
    "    m = KNeighborsClassifier(n_neighbors=i).fit(X_train, y_train)\n",
    "    joblib.dump(m, \"models/model_\" + str(i))\n",
    "\n",
    "    acc = round(m.score(X_test, y_test) * 100, 2)\n",
    "    joblib.dump(acc, \"models/acc_\" + str(i))\n",
    "\n",
    "    accuracy.append(acc)"
   ]
  },
  {
   "cell_type": "code",
   "execution_count": 8,
   "metadata": {},
   "outputs": [
    {
     "data": {
      "text/plain": [
       "['model/best_acc']"
      ]
     },
     "execution_count": 8,
     "metadata": {},
     "output_type": "execute_result"
    }
   ],
   "source": [
    "best_k = k[accuracy.index(max(accuracy))]\n",
    "best_model = KNeighborsClassifier(n_neighbors=best_k).fit(X_train, y_train)\n",
    "joblib.dump(best_model, \"models/best_model\")\n",
    "\n",
    "best_acc = max(accuracy)\n",
    "joblib.dump(best_acc, \"models/best_acc\")"
   ]
  },
  {
   "cell_type": "code",
   "execution_count": 10,
   "metadata": {},
   "outputs": [
    {
     "data": {
      "image/png": "[encoded data removed]",
      "text/plain": [
       "<Figure size 640x480 with 1 Axes>"
      ]
     },
     "metadata": {},
     "output_type": "display_data"
    }
   ],
   "source": [
    "import matplotlib.pyplot as plt\n",
    "\n",
    "plt.plot(k, accuracy)\n",
    "plt.xlabel(\"Nilai K\")\n",
    "plt.ylabel(\"Akurasi\")\n",
    "plt.style.use(\"ggplot\")\n",
    "plt.show()"
   ]
  }
 ],
 "metadata": {
  "kernelspec": {
   "display_name": "Python 3",
   "language": "python",
   "name": "python3"
  },
  "language_info": {
   "codemirror_mode": {
    "name": "ipython",
    "version": 3
   },
   "file_extension": ".py",
   "mimetype": "text/x-python",
   "name": "python",
   "nbconvert_exporter": "python",
   "pygments_lexer": "ipython3",
   "version": "3.10.8"
  },
  "orig_nbformat": 4
 },
 "nbformat": 4,
 "nbformat_minor": 2
}
